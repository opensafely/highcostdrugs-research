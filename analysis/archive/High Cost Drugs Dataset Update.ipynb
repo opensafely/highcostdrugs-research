{
 "cells": [
  {
   "cell_type": "markdown",
   "metadata": {},
   "source": [
    "# High cost drugs dataset\n",
    "\n",
    "## Short data report\n",
    "\n",
    "This short report describes how high cost drugs data can be identified in the OpenSAFELY-TPP database and analyised via study definitions. The report discusses the strengths and weaknesses of the data available to be queried as part of a study definition and gives a brief overview of other variables in the high cost drugs data that are not yet available to query via study definitions. \n",
    "\n",
    "This is a living document that will be updated to reflect changes to the OpenSAFELY-TPP database and the patient records within."
   ]
  },
  {
   "cell_type": "markdown",
   "metadata": {},
   "source": [
    "## Introduction\n",
    "\n",
    "The high cost drugs dataset is a patient level dataset that provides information on the use of drugs that are tariff-excluded. These are medicines that are not reimbursed directly through the national tariff and comissioned directly by NHS England & Improvement (NHSEI) specialised commissioning or Clinic Commissioning Groups (CCGs).\n",
    "\n",
    "The main purpose of the collection of data on the use of high cost drugs is for payments from NHSEI specialised commissioning or CCGs to hospitals once a drug has been supplied to a patient. Hospitals fill out a submission for each patient and each high cost drug and submit this to either a CCG or NHSEI specialised commissioning, based on which organisation is the commissioner, to recieve payment. \n",
    "\n",
    "As a secondary use these individual submissions can then be collected together to provide information on the total number of patients treated with high cost drugs, the volume of high cost drugs used and the cost of these medicines to commissioners. The dataset also provides information on clinical indications, the reason a patient was treated with the high cost drug, and the month the patient was treated."
   ]
  },
  {
   "cell_type": "markdown",
   "metadata": {},
   "source": [
    "## Creation of the national high cost drugs dataset\n",
    "\n",
    "The high cost drug payment request submissions are routinely collected together to produce datasets at an individual CCG and NHSEI specialised commissioning level. However, despite clear use cases for national policy and clinical teams, academics and other stakeholders, this data had never been collected together to provide a national overview of the use of high cost drugs in England prior to the work of the North of England Commissioing Support Unit (NECS) and the DataLab in spring/summer 2020.\n",
    "\n",
    "*To add information on how national data collection was proposed/approved*\n",
    "\n",
    "To create the first national high cost drugs dataset the NECS collected submissions from all commissioners in England - this covers *135?* CCGs and NHSEI specialised commissioning. The scope of the original dataset was all high cost drugs sumbissions from FY 2018/19 and FY 2019/20.\n",
    "\n",
    "The NECS faced a number of challenges in collecting and collating the submissions from this range of providers, particularly around data uniformity and validation. The impact of these challenges are discussed for each variable where relevant.\n",
    "\n",
    "**Caveats**\n",
    "* The NECS are unable to say with any certainty that the data received is a complete data set for each Provider and Commissioner. \n",
    "* The drug names and other text inputs are non-standardised, further work is required to standardise variables in the dataset.\n",
    "* The NECS are unable to comment on the level of data validation that has been undertaken before it was submitted.\n",
    "\n",
    "Further information on the NECS data collation and cleaning processes can be found in [this document.](https://docs.google.com/document/d/1JbUPp962KRNGsIC1wThexdMUrV0XOb-D/edit#heading=h.gjdgxs)"
   ]
  },
  {
   "cell_type": "markdown",
   "metadata": {},
   "source": [
    "## Analysing high cost drugs data in OpenSAFELY-TPP\n",
    "\n",
    "High cost drugs data is available for analysis via the OpenSAFELY-TPP platform to answer COVID-19 related research questions. The high cost drugs data can be analysed via OpenSAFELY study definitions and linked to information from patient GP records, COVID-19 related datasets (tests and results), hospital admissions and episodes data and data on patient outcomes. This will allow new insight in to the possible interactions between the medication a patient takes and COVID outcomes.\n",
    "\n",
    "Currently, three variables from the high cost drugs dataset can be queried in an OpenSAFELY study:\n",
    "* FinancialMonth\n",
    "* FinancialYear\n",
    "* DrugName\n",
    "\n",
    "These variables are the ones most relevant to current research questions which add new information not available in other OpenSAFELY-TPP datasets and are also the most complete. Other variables included in the high cost drugs dataset are described in Table 1 below along with a brief overview of data completeness.\n",
    "\n",
    "The steps to analyse OpenSAFELY-TPP data via OpenSAFELY study definitions are set out in this [guidance](https://docs.opensafely.org/en/latest/). There are some specific things to note when including the high cost drugs dataset in any analysis:\n",
    "* You will need to create bespoke codelists to cover the medications of interest. \n",
    "    * A list of the existing high cost drugs codelists on OpenSAFELY codelists can be found [here](https://codelists.opensafely.org/?q=High+cost+drugs). Check this to see if a codelist already exists for your medications of interest.\n",
    "    * If a codelist does not already exist then you will need to create one. These codelists will need to be based on the unique values of the drug name variable. A list of all the unique values for the drug name variable can be found here (add link!).\n",
    "    * Once you have created the codelist/lists for the medicines of interest these need to be uploaded to [OpenSAFELY codelists](https://codelists.opensafely.org/codelist/opensafely/add/).\n",
    "    \n",
    "* When you are ready to run your study definition and analysis via the [Job Runner](https://jobs.opensafely.org/) you will need to run on the full set of data as the high cost drugs dataset is not yet included in the slice of data (which can be used to test your study runs as expected)."
   ]
  },
  {
   "cell_type": "markdown",
   "metadata": {},
   "source": [
    "## Variable overview\n",
    "\n",
    "The national high cost drugs dataset is a patient level dataset and includes variables on patient characteristics, clinical indications and medicine prescribed.\n",
    "\n",
    "The data collection of inidivudal submissions is called the Drugs Patient Level Contract Monitoring Data Set and the national specification for submissions is published on the [NHS Data Model and Dictionary website](https://datadictionary.nhs.uk/data_sets/supporting_data_sets/drugs_patient_level_contract_monitoring_data_set.html).\n",
    "\n",
    "The NECS collated together the submissions from each CCG and NHSEI specialised commissioning to create a national dataset. The version of this dataset shared with OpenSafely and TPP includes a subset of the variables from the national specification and some derived variables. The dataset shared with OpenSafely and TPP only includes patients that are or were registered at a GP practice that uses the TPP EHRC systems. This data collection is therefore a sample of the full national high cost drugs dataset that the NECS produced.\n",
    "\n",
    "*Don't know whether to include this bit as only saved on OpenSafley google drive at mo - would need to be published*\n",
    "NECS provided a meta data file for the high cost drugs dataset, this is [saved here.](https://docs.google.com/spreadsheets/d/1i_Ux8UveZR8brMDO0-_TV_tYfWMLSSHY/edit?rtpof=true#gid=1394523185)"
   ]
  },
  {
   "cell_type": "markdown",
   "metadata": {},
   "source": [
    "### Table one: Variables included in the OpenSafely-TPP high cost drugs dataset\n",
    "\n",
    "|Variable Name | Variable Type | Specification details | Variable description | Data completeness |\n",
    ":--------------|:---------------|:---------------------|:-------------------|:---------------------|\n",
    "|Patient_Id | n10 | Mandatory where relevant | Psdonomised patient id, used to match dataset to other datasets within OpenSAFELY-TPP.||\n",
    "| FinancialMonth|max an2| Mandatory  | Financial month the prescribed item was administered to patient.<br> 1 = April <br> ... <br> 12 = March||\n",
    "|FinancialYear | an6 | Mandatory| Financial year the prescribed item was administered to patient.  <br> FY 2017/18 = 201718||\n",
    "|PersonAge | n | Derived | Age of patient when prescribed item was administered to patient. <br> Some submissions included age at intervention. <br> Where missing this variable was derived using clinical interventiona date and date of birth.||\n",
    "|PersonGender | an1 |Mandatory where relevant | Gender as stated by the patient. <br> 1 = Male <br> 2 = Female <br> 9 = Indeterminate (unable to be classified as either male or female)||\n",
    "|ActivityTreatmentFunctionCode | an3 |Mandatory where relevant <br> Full list of codes [here](https://datadictionary.nhs.uk/data_elements/activity_treatment_function_code.html) | Code to describe the clinical area that prescribing is taking place in, based on main speciality.||\n",
    "|TherapeuticIndicationCode | min an6 <br> max an20| Mandatory where relevant <br> SNOMED CT Code| Code used to identify the reason for administering drug to the patient.||\n",
    "|HighCostTariffExcludedDrugCode|min an6 <br> max an20 |Optional <br> SNOMED CT dm+d | dm+d description of medicine administred to patient. <br> only populated when provider has dm+d enabled system.||\n",
    "|DrugName|max an255 | Mandatory where relevant <br> Free text |The name of the prescribed item. <br> Should be the SNOMED CT name. <br> For drugs not listed in dm+d, this must be the valid name in UPPER CASE.||\n",
    "|Route of Administration|min an6 <br> max an20 |Mandatory where relevant <br> SNOMED CT dm+d|What does this tell us? <br> To be populated at providers with an e-prescribing system.||\n",
    "|DrugStrength|max an100 |Mandatory where relevant | The amount of ingredient substance in the prescribed item.||\n",
    "|DrugVolume|max an100| Mandatory where relevant| The volume of the drug administered to a patient when given in liquid form.|\n",
    "|DrugPackSize| max an100| Optional| The amount of product in a pack or container.||\n",
    "|DrugQuanitityOrWeightProportion*|max n4.max n4|Mandatory where relevant | The quantity prescribed in terms of either the packsize or number of doses. <br> * To note, the variable name is misspelled.||\n",
    "|UnitOfMeasurement | |Mandatory where relevant <br> SNOMED CT dm+d | Describes what the DrugQuantityOrWeightProportion variable is measuring.||\n",
    "|DispensingRoute|an1| Mandatory where releavant.|Describes where the prescription item was dispensed to the patient. <br> 1 = Inpatient (via Internal Pharmacy) <br> 2 = Outpatient (via Internal Pharmacy) <br> 3 = Outsourced Pharmacy <br> 4 = Homecare Delivery <br> 5 = Community Pharmacy (FP10) <br> 6 = Other (not listed)||\n",
    "|HomeDeliveryCharge|max n18.max n8 | Mandatory| The amount charged for delivery of item to patient's home. ||\n",
    "|TotalCost| max n18.max n8| Mandatory| The total cost of the activity that includes any agreed adjustments.||\n",
    "|DerivedSNOMEDFromName|max an255 | Derived by NECS | dm+d code dervied from DrugName variable. <br> Majority of values are missing.||\n",
    "|DerivedVTM|max an255| Derived by NECS | VTM code derived from ? <br> Many missing values.||\n",
    "|DerivedVTMName| max an255| Dervied by NECS |VTM name derived from VTM code. <br> Many missing values.||"
   ]
  },
  {
   "cell_type": "markdown",
   "metadata": {},
   "source": [
    "## Variable discussion in detail - variables available to query in OpenSAFELY-TPP"
   ]
  },
  {
   "cell_type": "code",
   "execution_count": 1,
   "metadata": {},
   "outputs": [
    {
     "data": {
      "text/html": [
       "<script>\n",
       "code_show=true; \n",
       "function code_toggle() {\n",
       " if (code_show){\n",
       " $('div.input').hide();\n",
       " } else {\n",
       " $('div.input').show();\n",
       " }\n",
       " code_show = !code_show\n",
       "} \n",
       "$( document ).ready(code_toggle);\n",
       "</script>\n",
       "<form action=\"javascript:code_toggle()\"><input type=\"submit\" value=\"Click here to toggle on/off the raw code.\"></form>"
      ],
      "text/plain": [
       "<IPython.core.display.HTML object>"
      ]
     },
     "execution_count": 1,
     "metadata": {},
     "output_type": "execute_result"
    }
   ],
   "source": [
    "from IPython.display import HTML\n",
    "\n",
    "HTML('''<script>\n",
    "code_show=true; \n",
    "function code_toggle() {\n",
    " if (code_show){\n",
    " $('div.input').hide();\n",
    " } else {\n",
    " $('div.input').show();\n",
    " }\n",
    " code_show = !code_show\n",
    "} \n",
    "$( document ).ready(code_toggle);\n",
    "</script>\n",
    "<form action=\"javascript:code_toggle()\"><input type=\"submit\" value=\"Click here to toggle on/off the raw code.\"></form>''')"
   ]
  },
  {
   "cell_type": "code",
   "execution_count": 22,
   "metadata": {},
   "outputs": [],
   "source": [
    "# runnning code to import libraries\n",
    "import pandas as pd\n",
    "import numpy as np\n",
    "import os as os\n",
    "from matplotlib import pyplot as plt"
   ]
  },
  {
   "cell_type": "markdown",
   "metadata": {},
   "source": [
    "### Patient ID, Financial Year and Financial Month\n",
    "\n",
    "The patient ID in the national high cost drugs dataset is used to match the information from this dataset to other patient level data included in the OpenSAFELY-TPP environment. This ID allows OpenSafely-TPP users to include information from other data sources on the platform (e.g. hospital episodes or COVID-19 testing) in any analysis of high cost drugs use.\n",
    "\n",
    "The financial year and financial month variables are stored seperately which makes time period analysis a little more complex then if this information was stored as one variable. The OpenSafely cohort extracter has been developed so that users can query dates in the routine way and the transaltion from routine dates to seperate financial year and financial month filters is done in the background of the OpenSafely-TPP platform.\n",
    "\n",
    "The high cost drugs dataset contains submissions from April 2018 to March 2021. However, there are only a small number of submissions for FY 2020/21 and these are prospective submissions - submitted before the patient has recieved the medicine. We would recommend that these records are ignored and not used in any analysis.\n",
    "\n",
    "- In FY 2018/19 there are 2.8 million submissions for 1.1 million unique patient IDs. The average number of submissions per patient over the year is 2.63.\n",
    "\n",
    "- In FY 2019/20 there are 4.0 million submissions for 1.3 million unique patient IDs. The average number of submission per patient over the year is 3.10."
   ]
  },
  {
   "cell_type": "code",
   "execution_count": 14,
   "metadata": {
    "scrolled": false
   },
   "outputs": [],
   "source": [
    "# steps to get the correct filepath for the csv file and read in patient record summary\n",
    "os.getcwd()\n",
    "parentDirectory = os.path.abspath(os.path.join(os.getcwd(), os.pardir))\n",
    "path = \"/released-output/\"\n",
    "filename = parentDirectory + path + \"record_summary_20210216.csv\"\n",
    "\n",
    "cols = [\n",
    "    \"Unique Patient IDs\",\n",
    "    \"Number of Records\",\n",
    "    \"Number of NULL Patient IDs\",\n",
    "    \"Financial Year\",\n",
    "    \"Financial Month\"]\n",
    "\n",
    "patient_record_summary = pd.read_csv(filename, header = None, names = cols, index_col = False)\n",
    "patient_record_summary = patient_record_summary.sort_values([\"Financial Year\", \"Financial Month\" ])\n",
    "patient_record_summary = patient_record_summary[[\"Financial Year\", \"Financial Month\", \"Number of NULL Patient IDs\", \n",
    "                                                \"Unique Patient IDs\", \"Number of Records\"]]\n",
    "patient_record_summary[\"Average num of records per patient\"] = patient_record_summary[\"Number of Records\"] / patient_record_summary[\"Unique Patient IDs\"]\n",
    "patient_record_summary_1819_1920 = patient_record_summary[(patient_record_summary[\"Financial Year\"] != 202021)]"
   ]
  },
  {
   "cell_type": "code",
   "execution_count": 20,
   "metadata": {},
   "outputs": [
    {
     "data": {
      "text/html": [
       "<div>\n",
       "<style scoped>\n",
       "    .dataframe tbody tr th:only-of-type {\n",
       "        vertical-align: middle;\n",
       "    }\n",
       "\n",
       "    .dataframe tbody tr th {\n",
       "        vertical-align: top;\n",
       "    }\n",
       "\n",
       "    .dataframe thead th {\n",
       "        text-align: right;\n",
       "    }\n",
       "</style>\n",
       "<table border=\"1\" class=\"dataframe\">\n",
       "  <thead>\n",
       "    <tr style=\"text-align: right;\">\n",
       "      <th></th>\n",
       "      <th>Unique Patient IDs</th>\n",
       "      <th>Number of Records</th>\n",
       "      <th>Average num of records per patient</th>\n",
       "    </tr>\n",
       "    <tr>\n",
       "      <th>Financial Year</th>\n",
       "      <th></th>\n",
       "      <th></th>\n",
       "      <th></th>\n",
       "    </tr>\n",
       "  </thead>\n",
       "  <tbody>\n",
       "    <tr>\n",
       "      <th>201819</th>\n",
       "      <td>1064279</td>\n",
       "      <td>2799394</td>\n",
       "      <td>2.630320</td>\n",
       "    </tr>\n",
       "    <tr>\n",
       "      <th>201920</th>\n",
       "      <td>1286804</td>\n",
       "      <td>3984198</td>\n",
       "      <td>3.096196</td>\n",
       "    </tr>\n",
       "  </tbody>\n",
       "</table>\n",
       "</div>"
      ],
      "text/plain": [
       "                Unique Patient IDs  Number of Records  \\\n",
       "Financial Year                                          \n",
       "201819                     1064279            2799394   \n",
       "201920                     1286804            3984198   \n",
       "\n",
       "                Average num of records per patient  \n",
       "Financial Year                                      \n",
       "201819                                    2.630320  \n",
       "201920                                    3.096196  "
      ]
     },
     "execution_count": 20,
     "metadata": {},
     "output_type": "execute_result"
    }
   ],
   "source": [
    "agg_list = [\"Unique Patient IDs\", \"Number of Records\"]\n",
    "FY_Summary = patient_record_summary_1819_1920.groupby([\"Financial Year\"])[agg_list].sum()\n",
    "FY_Summary[\"Average num of records per patient\"] = FY_Summary[\"Number of Records\"] / FY_Summary[\"Unique Patient IDs\"]\n",
    "FY_Summary"
   ]
  },
  {
   "cell_type": "markdown",
   "metadata": {},
   "source": [
    "### Drug Name\n",
    "\n",
    "The drug name variable is mandatory where relevant and can be used in study defintions to create patient populations of interest. This variable can be queried to produce:\n",
    "* A flag to indicate a patient was ever prescribed a medicine between dates x and y.\n",
    "* The first date a patient was prescribed a medicine between dates x and y.\n",
    "* The last date a patient was prescribed a medicine between dates x and y.\n",
    "\n",
    "This variable is populated for x% of records, where the drug name is NULL the record is (*what are the records where null?*)\n",
    "\n",
    "Where hospital systems use the dm+d drug definitions the drug name variable should be the dm+d drug name, if hospitals do not use the dm+d drug definitions this should be an upper case string and should be a valid name as listed in the specification (*what is the specification?*). However, when reviewing the unique values for the drug name variable it is clear that the range of values is much more varied than the specification describes and it appears that submissions may allow for free text entry. There are over 30,000 unique values for the drug name variable recorded over FY 2018/19 and FY 2019/20. Taking the medicine adalimumab as an example, there are over 450 different ways that adalimumab is described in the high cost drugs dataset. This variation is listed in Table two below.\n",
    "\n",
    "This variation in recording of drug names means that codelists cannot be created using existing data definitions (e.g. dm+d or BNF) and bespoke \"codelists\" will need to be created to pick up all possible variants. To date we have created these codelists by searching to see if a string or set of strings is part of the drug name."
   ]
  },
  {
   "cell_type": "code",
   "execution_count": 2,
   "metadata": {},
   "outputs": [],
   "source": [
    "# a code box to pull in data on adalimumab names and display in a nice table"
   ]
  },
  {
   "cell_type": "code",
   "execution_count": null,
   "metadata": {},
   "outputs": [],
   "source": []
  }
 ],
 "metadata": {
  "kernelspec": {
   "display_name": "Python 3",
   "language": "python",
   "name": "python3"
  },
  "language_info": {
   "codemirror_mode": {
    "name": "ipython",
    "version": 3
   },
   "file_extension": ".py",
   "mimetype": "text/x-python",
   "name": "python",
   "nbconvert_exporter": "python",
   "pygments_lexer": "ipython3",
   "version": "3.8.5"
  }
 },
 "nbformat": 4,
 "nbformat_minor": 4
}
